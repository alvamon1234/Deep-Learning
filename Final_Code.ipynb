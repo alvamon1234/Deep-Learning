{
  "cells": [
    {
      "cell_type": "code",
      "execution_count": 24,
      "metadata": {
        "id": "mj8j8f58X-sZ"
      },
      "outputs": [],
      "source": [
        "import pandas as pd\n",
        "import numpy as np\n",
        "import pickle\n",
        "import matplotlib.pyplot as plt\n",
        "import seaborn as sns\n",
        "import tensorflow as tf\n",
        "import random\n",
        "from tensorflow.keras import regularizers\n",
        "from tensorflow.keras.preprocessing.text import Tokenizer\n",
        "from tensorflow.keras.preprocessing.sequence import pad_sequences\n",
        "from tensorflow.keras.callbacks import EarlyStopping\n",
        "from sklearn.metrics import confusion_matrix\n",
        "from sklearn.metrics import recall_score\n",
        "from sklearn.metrics import f1_score\n",
        "from sklearn.metrics import accuracy_score\n",
        "from sklearn.preprocessing import LabelEncoder\n",
        "from sklearn.model_selection import train_test_split\n",
        "from sklearn.feature_extraction.text import CountVectorizer"
      ]
    },
    {
      "cell_type": "code",
      "execution_count": 25,
      "metadata": {
        "id": "2zphyyHQ3VI0"
      },
      "outputs": [],
      "source": [
        "# Load the GloVe word embeddings\n",
        "embeddings_index = {}\n",
        "with open('glove.6B.50d.txt', encoding='utf8') as f:\n",
        "    for line in f:\n",
        "        values = line.split()\n",
        "        word = values[0]\n",
        "        coefs = np.asarray(values[1:], dtype='float32')\n",
        "        embeddings_index[word] = coefs"
      ]
    },
    {
      "cell_type": "code",
      "execution_count": 26,
      "metadata": {
        "id": "XYQVIZC7Fl_f"
      },
      "outputs": [],
      "source": [
        "#Hyperparameter Tuning\n",
        "test_size = 0.1\n",
        "validation_size = 0.2\n",
        "max_len = 200\n",
        "l1 = 1e-2\n",
        "l2 = 1e-2\n",
        "dropout_rate = 0.6\n",
        "activation = 'relu'\n",
        "final_activation = 'softmax'\n",
        "#learning_rate = tf.keras.optimizers.schedules.CosineDecay(0.001, 1000)\n",
        "learning_rate = 0.001\n",
        "epochs = 20\n",
        "batch_size = 32\n",
        "data_augmentation = True\n",
        "balance = False"
      ]
    },
    {
      "cell_type": "code",
      "execution_count": 27,
      "metadata": {
        "id": "jdEMEOuVY2bv"
      },
      "outputs": [],
      "source": [
        "# Load the dataset\n",
        "df = pd.read_csv('./tcc_ceds_music.csv', delimiter=',')\n",
        "df.dataframeName = 'tcc_ceds_music.csv'\n",
        "\n",
        "df.drop(columns=['Unnamed: 0', 'len', 'dating', 'violence', 'world/life', 'night/time',\n",
        "       'shake the audience', 'family/gospel', 'romantic', 'communication',\n",
        "       'obscene', 'music', 'movement/places', 'light/visual perceptions',\n",
        "       'family/spiritual', 'like/girls', 'sadness', 'feelings', 'danceability',\n",
        "       'loudness', 'acousticness', 'instrumentalness', 'valence', 'energy',\n",
        "       'topic', 'age', 'artist_name', 'track_name', 'release_date'], inplace=True)\n",
        "\n",
        "df.drop(df[df['genre'] == 'pop'].index, inplace = True)\n",
        "#df.drop(df[df['genre'] == 'country'].index, inplace = True)\n",
        "#df.drop(df[df['genre'] == 'rock'].index, inplace = True)\n",
        "#df.drop(df[df['genre'] == 'reggae'].index, inplace = True)\n",
        "df.drop(df[df['genre'] == 'hip hop'].index, inplace = True)\n",
        "df.drop(df[df['genre'] == 'blues'].index, inplace = True)\n",
        "df.drop(df[df['genre'] == 'jazz'].index, inplace = True)"
      ]
    },
    {
      "cell_type": "code",
      "execution_count": 28,
      "metadata": {
        "id": "QnADEV_voCvp"
      },
      "outputs": [],
      "source": [
        "if balance:\n",
        "  N = 2500\n",
        "  df = df.groupby('genre')\\\n",
        "      .apply(lambda x: x[:N][['genre', 'lyrics']])"
      ]
    },
    {
      "cell_type": "code",
      "execution_count": 29,
      "metadata": {
        "colab": {
          "base_uri": "https://localhost:8080/"
        },
        "id": "wpkVPHeSjcRZ",
        "outputId": "b82e82e4-c2d0-4c1b-94ac-e589c73fda49"
      },
      "outputs": [
        {
          "output_type": "stream",
          "name": "stdout",
          "text": [
            "Dataset shape: (11977, 2)\n",
            "Columns: Index(['genre', 'lyrics'], dtype='object')\n",
            "Missing values: genre     0\n",
            "lyrics    0\n",
            "dtype: int64\n",
            "Genre distribution:\n",
            "country    5445\n",
            "rock       4034\n",
            "reggae     2498\n",
            "Name: genre, dtype: int64\n",
            "Average number of words per song: 71.55189112465558\n",
            "Max length:  tf.Tensor(199, shape=(), dtype=int64)\n"
          ]
        }
      ],
      "source": [
        "# Check number of rows and columns\n",
        "print('Dataset shape:', df.shape)\n",
        "\n",
        "# Check the column names\n",
        "print('Columns:', df.columns)\n",
        "\n",
        "# Check for missing values\n",
        "print('Missing values:', df.isnull().sum())\n",
        "\n",
        "# Check the distribution of genres\n",
        "print('Genre distribution:')\n",
        "print(df['genre'].value_counts())\n",
        "\n",
        "# Check the average number of words per song\n",
        "df['num_words'] = df['lyrics'].apply(lambda x: len(str(x).split()))\n",
        "print('Average number of words per song:', df['num_words'].mean())\n",
        "print('Max length: ', tf.reduce_max(df['num_words']))"
      ]
    },
    {
      "cell_type": "code",
      "execution_count": 30,
      "metadata": {
        "colab": {
          "base_uri": "https://localhost:8080/"
        },
        "id": "jWsQT8oKqyDA",
        "outputId": "c559ce67-c24a-4635-c66c-23b03050465f"
      },
      "outputs": [
        {
          "output_type": "stream",
          "name": "stdout",
          "text": [
            "Genre: country\n",
            "know : 5836\n",
            "time : 5230\n",
            "like : 4569\n",
            "heart : 4460\n",
            "come : 3900\n",
            "away : 2923\n",
            "life : 2776\n",
            "leave : 2758\n",
            "night : 2501\n",
            "long : 2433\n",
            "\n",
            "Genre: reggae\n",
            "like : 3790\n",
            "know : 3577\n",
            "come : 2951\n",
            "time : 2830\n",
            "yeah : 2492\n",
            "life : 2212\n",
            "live : 1981\n",
            "cause : 1770\n",
            "feel : 1760\n",
            "want : 1655\n",
            "\n",
            "Genre: rock\n",
            "know : 3878\n",
            "time : 3471\n",
            "like : 3094\n",
            "come : 3036\n",
            "away : 2936\n",
            "feel : 2449\n",
            "life : 2303\n",
            "live : 2153\n",
            "want : 2108\n",
            "yeah : 2096\n",
            "\n"
          ]
        }
      ],
      "source": [
        "# extract the lyrics and genres columns\n",
        "lyrics = df['lyrics']\n",
        "genres = df['genre']\n",
        "\n",
        "# initialize a CountVectorizer object to tokenize the lyrics\n",
        "vectorizer = CountVectorizer(stop_words='english')\n",
        "\n",
        "# fit the vectorizer on the lyrics data to create the vocabulary\n",
        "vectorizer.fit(lyrics)\n",
        "\n",
        "# transform the lyrics data into a bag-of-words representation\n",
        "bag_of_words = vectorizer.transform(lyrics)\n",
        "\n",
        "# print the bag of words for each genre\n",
        "for genre in set(genres):\n",
        "    # get the indices of the lyrics belonging to the current genre\n",
        "    indices = genres == genre\n",
        "    \n",
        "    # sum the bag of words of the lyrics belonging to the current genre\n",
        "    genre_bow = bag_of_words[indices].sum(axis=0)\n",
        "    \n",
        "    # get the features (words) in the vocabulary\n",
        "    features = vectorizer.get_feature_names_out()\n",
        "    \n",
        "    # print the bag of words for the current genre\n",
        "    print(f'Genre: {genre}')\n",
        "    for i in range(10):\n",
        "      index = np.where(genre_bow.A[0] == max(genre_bow.A[0]))\n",
        "      print(f'{features[index][0]} : {max(genre_bow.A[0])}')\n",
        "      features = np.delete(features,index)\n",
        "      genre_bow = np.delete(genre_bow,index)\n",
        "    print()"
      ]
    },
    {
      "cell_type": "code",
      "execution_count": 31,
      "metadata": {
        "id": "oHuDX7xJYFsA"
      },
      "outputs": [],
      "source": [
        "# Drop missing values\n",
        "df.dropna(inplace=True)\n",
        "\n",
        "# Encode the labels\n",
        "le = LabelEncoder()\n",
        "df['genre'] = le.fit_transform(df['genre'])\n",
        "\n",
        "# Split the data into train and test sets\n",
        "X_train, X_test, y_train, y_test = train_test_split(df['lyrics'], df['genre'], test_size=test_size, random_state=42)\n",
        "\n",
        "# Split the test data into train and validation sets\n",
        "X_train, X_val, y_train, y_val = train_test_split(df['lyrics'], df['genre'], test_size=validation_size, random_state=42)\n",
        "\n",
        "# Tokenize the lyrics\n",
        "tokenizer = Tokenizer()\n",
        "tokenizer.fit_on_texts(X_train)\n",
        "word_index = tokenizer.word_index\n",
        "\n",
        "# Convert the lyrics to sequences\n",
        "X_train = tokenizer.texts_to_sequences(X_train)\n",
        "X_val = tokenizer.texts_to_sequences(X_val)\n",
        "X_test = tokenizer.texts_to_sequences(X_test)\n",
        "\n",
        "if data_augmentation:\n",
        "  aug_x_train = []\n",
        "  aug_y_train = y_train.copy(True)\n",
        "\n",
        "  for lyrics in X_train:\n",
        "    new_lyrics = np.copy(lyrics)\n",
        "    np.random.shuffle(new_lyrics)\n",
        "    aug_x_train.append(new_lyrics)\n",
        "\n",
        "  X_train = X_train + aug_x_train\n",
        "  y_train = pd.concat([y_train, aug_y_train], ignore_index=True)\n",
        "\n",
        "# Pad the sequences to the same length\n",
        "X_train = pad_sequences(X_train, maxlen=max_len, padding='post')\n",
        "X_val = pad_sequences(X_val, maxlen=max_len, padding='post')\n",
        "X_test = pad_sequences(X_test, maxlen=max_len, padding='post')"
      ]
    },
    {
      "cell_type": "code",
      "execution_count": 32,
      "metadata": {
        "id": "p23Foh9L3gTq"
      },
      "outputs": [],
      "source": [
        "# Create the embedding matrix\n",
        "num_words = len(word_index) + 1\n",
        "embedding_dim = 50\n",
        "embedding_matrix = np.zeros((num_words, embedding_dim))\n",
        "for word, i in tokenizer.word_index.items():\n",
        "    embedding_vector = embeddings_index.get(word)\n",
        "    if embedding_vector is not None:\n",
        "        embedding_matrix[i] = embedding_vector"
      ]
    },
    {
      "cell_type": "code",
      "source": [
        "# Define the baseline\n",
        "model0 = tf.keras.Sequential([\n",
        "    tf.keras.layers.Embedding(num_words, embedding_dim, weights=[embedding_matrix], input_length=max_len, trainable=False, mask_zero=True),\n",
        "    tf.keras.layers.LSTM(32,kernel_regularizer=regularizers.L1L2(l1=l1, l2=l2),activation='tanh',trainable=False),\n",
        "    tf.keras.layers.Dropout(dropout_rate),\n",
        "    tf.keras.layers.Dense(3, activation=final_activation)\n",
        "])\n",
        "\n",
        "# Compile the model\n",
        "optimizer = tf.keras.optimizers.RMSprop(learning_rate=learning_rate)\n",
        "#optimizer = tf.keras.optimizers.Adam(learning_rate=learning_rate)\n",
        "loss = tf.keras.losses.SparseCategoricalCrossentropy()\n",
        "#loss = tf.keras.losses.MeanSquaredError()\n",
        "model0.compile(loss=loss, optimizer=optimizer, metrics=['accuracy'])"
      ],
      "metadata": {
        "id": "GI16i3cLZ0og"
      },
      "execution_count": 33,
      "outputs": []
    },
    {
      "cell_type": "code",
      "source": [
        "model0.summary()"
      ],
      "metadata": {
        "colab": {
          "base_uri": "https://localhost:8080/"
        },
        "id": "I_tqS7t8aYJA",
        "outputId": "8fba3e86-e089-4000-c2dd-807285601c8c"
      },
      "execution_count": 34,
      "outputs": [
        {
          "output_type": "stream",
          "name": "stdout",
          "text": [
            "Model: \"sequential_4\"\n",
            "_________________________________________________________________\n",
            " Layer (type)                Output Shape              Param #   \n",
            "=================================================================\n",
            " embedding_4 (Embedding)     (None, 200, 50)           1277550   \n",
            "                                                                 \n",
            " lstm_2 (LSTM)               (None, 32)                10624     \n",
            "                                                                 \n",
            " dropout_6 (Dropout)         (None, 32)                0         \n",
            "                                                                 \n",
            " dense_8 (Dense)             (None, 3)                 99        \n",
            "                                                                 \n",
            "=================================================================\n",
            "Total params: 1,288,273\n",
            "Trainable params: 99\n",
            "Non-trainable params: 1,288,174\n",
            "_________________________________________________________________\n"
          ]
        }
      ]
    },
    {
      "cell_type": "code",
      "source": [
        "# Train the model\n",
        "history0 = model0.fit(X_train, y_train, epochs=epochs, batch_size=batch_size, validation_data=(X_val, y_val), shuffle=False, callbacks=[EarlyStopping(patience=5)])"
      ],
      "metadata": {
        "colab": {
          "base_uri": "https://localhost:8080/"
        },
        "id": "Ui41vJwzab0l",
        "outputId": "84315e99-9348-4835-ce77-6c160f1ee277"
      },
      "execution_count": 35,
      "outputs": [
        {
          "output_type": "stream",
          "name": "stdout",
          "text": [
            "Epoch 1/20\n",
            "599/599 [==============================] - 10s 9ms/step - loss: 7.7860 - accuracy: 0.4018 - val_loss: 7.7293 - val_accuracy: 0.4854\n",
            "Epoch 2/20\n",
            "599/599 [==============================] - 4s 6ms/step - loss: 7.7510 - accuracy: 0.4454 - val_loss: 7.7269 - val_accuracy: 0.4846\n",
            "Epoch 3/20\n",
            "599/599 [==============================] - 4s 7ms/step - loss: 7.7429 - accuracy: 0.4600 - val_loss: 7.7263 - val_accuracy: 0.4833\n",
            "Epoch 4/20\n",
            "599/599 [==============================] - 4s 6ms/step - loss: 7.7397 - accuracy: 0.4567 - val_loss: 7.7267 - val_accuracy: 0.4825\n",
            "Epoch 5/20\n",
            "599/599 [==============================] - 4s 6ms/step - loss: 7.7391 - accuracy: 0.4620 - val_loss: 7.7258 - val_accuracy: 0.4833\n",
            "Epoch 6/20\n",
            "599/599 [==============================] - 4s 7ms/step - loss: 7.7390 - accuracy: 0.4591 - val_loss: 7.7256 - val_accuracy: 0.4825\n",
            "Epoch 7/20\n",
            "599/599 [==============================] - 4s 7ms/step - loss: 7.7386 - accuracy: 0.4611 - val_loss: 7.7250 - val_accuracy: 0.4950\n",
            "Epoch 8/20\n",
            "599/599 [==============================] - 4s 7ms/step - loss: 7.7385 - accuracy: 0.4662 - val_loss: 7.7250 - val_accuracy: 0.4954\n",
            "Epoch 9/20\n",
            "599/599 [==============================] - 4s 7ms/step - loss: 7.7381 - accuracy: 0.4627 - val_loss: 7.7244 - val_accuracy: 0.4900\n",
            "Epoch 10/20\n",
            "599/599 [==============================] - 4s 6ms/step - loss: 7.7379 - accuracy: 0.4638 - val_loss: 7.7247 - val_accuracy: 0.4937\n",
            "Epoch 11/20\n",
            "599/599 [==============================] - 4s 6ms/step - loss: 7.7382 - accuracy: 0.4639 - val_loss: 7.7247 - val_accuracy: 0.4837\n",
            "Epoch 12/20\n",
            "599/599 [==============================] - 4s 7ms/step - loss: 7.7381 - accuracy: 0.4642 - val_loss: 7.7256 - val_accuracy: 0.4912\n",
            "Epoch 13/20\n",
            "599/599 [==============================] - 4s 7ms/step - loss: 7.7380 - accuracy: 0.4630 - val_loss: 7.7250 - val_accuracy: 0.4917\n",
            "Epoch 14/20\n",
            "599/599 [==============================] - 4s 7ms/step - loss: 7.7372 - accuracy: 0.4638 - val_loss: 7.7246 - val_accuracy: 0.4929\n"
          ]
        }
      ]
    },
    {
      "cell_type": "code",
      "source": [
        "# Evaluate the model\n",
        "loss, accuracy = model0.evaluate(X_test, y_test)\n",
        "print(\"Test Loss:\", loss)\n",
        "print(\"Test Accuracy:\", accuracy)"
      ],
      "metadata": {
        "id": "NkP5O_0Dair0",
        "colab": {
          "base_uri": "https://localhost:8080/"
        },
        "outputId": "d76b9352-a44e-4c9d-bff7-62d44a9b6d04"
      },
      "execution_count": 36,
      "outputs": [
        {
          "output_type": "stream",
          "name": "stdout",
          "text": [
            "38/38 [==============================] - 0s 6ms/step - loss: 7.7305 - accuracy: 0.4816\n",
            "Test Loss: 7.730525970458984\n",
            "Test Accuracy: 0.48163604736328125\n"
          ]
        }
      ]
    },
    {
      "cell_type": "code",
      "execution_count": 37,
      "metadata": {
        "id": "KptGxIipYISl"
      },
      "outputs": [],
      "source": [
        "# Define the model 1\n",
        "model1 = tf.keras.Sequential([\n",
        "    tf.keras.layers.Embedding(num_words, embedding_dim, weights=[embedding_matrix], input_length=max_len, trainable=False, mask_zero=True),\n",
        "    tf.keras.layers.LSTM(32,kernel_regularizer=regularizers.L1L2(l1=l1, l2=l2),activation='tanh'),\n",
        "    #tf.keras.layers.Dropout(dropout_rate),\n",
        "    #tf.keras.layers.Dense(16, activation=activation),\n",
        "    tf.keras.layers.Dropout(dropout_rate),\n",
        "    tf.keras.layers.Dense(3, activation=final_activation)\n",
        "])\n",
        "\n",
        "# Compile the model\n",
        "optimizer = tf.keras.optimizers.RMSprop(learning_rate=learning_rate)\n",
        "#optimizer = tf.keras.optimizers.Adam(learning_rate=learning_rate)\n",
        "loss = tf.keras.losses.SparseCategoricalCrossentropy()\n",
        "#loss = tf.keras.losses.MeanSquaredError()\n",
        "model1.compile(loss=loss, optimizer=optimizer, metrics=['accuracy'])"
      ]
    },
    {
      "cell_type": "code",
      "execution_count": 38,
      "metadata": {
        "colab": {
          "base_uri": "https://localhost:8080/"
        },
        "id": "pLrGSRY1ylbI",
        "outputId": "0ef71070-0aa2-4952-8b18-b1d53fdbbcc1"
      },
      "outputs": [
        {
          "output_type": "stream",
          "name": "stdout",
          "text": [
            "Model: \"sequential_5\"\n",
            "_________________________________________________________________\n",
            " Layer (type)                Output Shape              Param #   \n",
            "=================================================================\n",
            " embedding_5 (Embedding)     (None, 200, 50)           1277550   \n",
            "                                                                 \n",
            " lstm_3 (LSTM)               (None, 32)                10624     \n",
            "                                                                 \n",
            " dropout_7 (Dropout)         (None, 32)                0         \n",
            "                                                                 \n",
            " dense_9 (Dense)             (None, 3)                 99        \n",
            "                                                                 \n",
            "=================================================================\n",
            "Total params: 1,288,273\n",
            "Trainable params: 10,723\n",
            "Non-trainable params: 1,277,550\n",
            "_________________________________________________________________\n"
          ]
        }
      ],
      "source": [
        "model1.summary()"
      ]
    },
    {
      "cell_type": "code",
      "execution_count": 39,
      "metadata": {
        "colab": {
          "base_uri": "https://localhost:8080/"
        },
        "id": "A6upm7SHYLo3",
        "outputId": "0d324c14-1de4-43be-d3a5-1ccf1ff9a3b2"
      },
      "outputs": [
        {
          "output_type": "stream",
          "name": "stdout",
          "text": [
            "Epoch 1/20\n",
            "599/599 [==============================] - 14s 14ms/step - loss: 1.7575 - accuracy: 0.4706 - val_loss: 1.0706 - val_accuracy: 0.5138\n",
            "Epoch 2/20\n",
            "599/599 [==============================] - 7s 12ms/step - loss: 1.0698 - accuracy: 0.5130 - val_loss: 1.0323 - val_accuracy: 0.5413\n",
            "Epoch 3/20\n",
            "599/599 [==============================] - 8s 13ms/step - loss: 1.0450 - accuracy: 0.5246 - val_loss: 1.0188 - val_accuracy: 0.5559\n",
            "Epoch 4/20\n",
            "599/599 [==============================] - 7s 12ms/step - loss: 1.0274 - accuracy: 0.5321 - val_loss: 1.0799 - val_accuracy: 0.5054\n",
            "Epoch 5/20\n",
            "599/599 [==============================] - 8s 13ms/step - loss: 1.0176 - accuracy: 0.5405 - val_loss: 1.0419 - val_accuracy: 0.5067\n",
            "Epoch 6/20\n",
            "599/599 [==============================] - 7s 12ms/step - loss: 1.0232 - accuracy: 0.5361 - val_loss: 1.0208 - val_accuracy: 0.5309\n",
            "Epoch 7/20\n",
            "599/599 [==============================] - 7s 12ms/step - loss: 1.0085 - accuracy: 0.5416 - val_loss: 1.0175 - val_accuracy: 0.5417\n",
            "Epoch 8/20\n",
            "599/599 [==============================] - 8s 13ms/step - loss: 1.0272 - accuracy: 0.5307 - val_loss: 1.0081 - val_accuracy: 0.5547\n",
            "Epoch 9/20\n",
            "599/599 [==============================] - 7s 11ms/step - loss: 1.0010 - accuracy: 0.5482 - val_loss: 0.9969 - val_accuracy: 0.5518\n",
            "Epoch 10/20\n",
            "599/599 [==============================] - 8s 13ms/step - loss: 1.0159 - accuracy: 0.5365 - val_loss: 1.0035 - val_accuracy: 0.5522\n",
            "Epoch 11/20\n",
            "599/599 [==============================] - 6s 11ms/step - loss: 0.9971 - accuracy: 0.5521 - val_loss: 0.9951 - val_accuracy: 0.5651\n",
            "Epoch 12/20\n",
            "599/599 [==============================] - 8s 13ms/step - loss: 0.9955 - accuracy: 0.5566 - val_loss: 0.9846 - val_accuracy: 0.5735\n",
            "Epoch 13/20\n",
            "599/599 [==============================] - 7s 12ms/step - loss: 0.9944 - accuracy: 0.5642 - val_loss: 0.9849 - val_accuracy: 0.5780\n",
            "Epoch 14/20\n",
            "599/599 [==============================] - 7s 12ms/step - loss: 0.9976 - accuracy: 0.5680 - val_loss: 0.9929 - val_accuracy: 0.5689\n",
            "Epoch 15/20\n",
            "599/599 [==============================] - 8s 13ms/step - loss: 0.9931 - accuracy: 0.5694 - val_loss: 0.9827 - val_accuracy: 0.5806\n",
            "Epoch 16/20\n",
            "599/599 [==============================] - 7s 11ms/step - loss: 0.9841 - accuracy: 0.5771 - val_loss: 0.9821 - val_accuracy: 0.5839\n",
            "Epoch 17/20\n",
            "599/599 [==============================] - 8s 13ms/step - loss: 0.9876 - accuracy: 0.5785 - val_loss: 0.9752 - val_accuracy: 0.5893\n",
            "Epoch 18/20\n",
            "599/599 [==============================] - 6s 11ms/step - loss: 0.9821 - accuracy: 0.5785 - val_loss: 0.9767 - val_accuracy: 0.5843\n",
            "Epoch 19/20\n",
            "599/599 [==============================] - 9s 15ms/step - loss: 0.9817 - accuracy: 0.5798 - val_loss: 0.9775 - val_accuracy: 0.6002\n",
            "Epoch 20/20\n",
            "599/599 [==============================] - 8s 13ms/step - loss: 0.9795 - accuracy: 0.5853 - val_loss: 0.9749 - val_accuracy: 0.5906\n"
          ]
        }
      ],
      "source": [
        "# Train the model\n",
        "history1 = model1.fit(X_train, y_train, epochs=epochs, batch_size=batch_size, validation_data=(X_val, y_val), shuffle=False, callbacks=[EarlyStopping(patience=5)])"
      ]
    },
    {
      "cell_type": "code",
      "execution_count": 40,
      "metadata": {
        "colab": {
          "base_uri": "https://localhost:8080/"
        },
        "id": "7mOYSv1rYR9t",
        "outputId": "2f128bb9-a52f-4600-e290-a321b74035a7"
      },
      "outputs": [
        {
          "output_type": "stream",
          "name": "stdout",
          "text": [
            "38/38 [==============================] - 0s 6ms/step - loss: 0.9755 - accuracy: 0.5927\n",
            "Test Loss: 0.9754635691642761\n",
            "Test Accuracy: 0.5926544070243835\n"
          ]
        }
      ],
      "source": [
        "# Evaluate the model\n",
        "loss, accuracy = model1.evaluate(X_test, y_test)\n",
        "print(\"Test Loss:\", loss)\n",
        "print(\"Test Accuracy:\", accuracy)"
      ]
    },
    {
      "cell_type": "code",
      "execution_count": 41,
      "metadata": {
        "id": "qL6qCVwHZg67"
      },
      "outputs": [],
      "source": [
        "# Define the model 2\n",
        "model2 = tf.keras.Sequential([\n",
        "    tf.keras.layers.Embedding(len(word_index) + 1, 128, input_length=max_len, mask_zero=True),\n",
        "    tf.keras.layers.GRU(32,kernel_regularizer=regularizers.L1L2(l1=l1, l2=l2), activation='tanh'),\n",
        "    #tf.keras.layers.Dropout(dropout_rate),\n",
        "    #tf.keras.layers.Dense(16, activation=activation),\n",
        "    tf.keras.layers.Dropout(dropout_rate),\n",
        "    tf.keras.layers.Dense(3, activation=final_activation)\n",
        "])\n",
        "\n",
        "# Compile the model\n",
        "optimizer = tf.keras.optimizers.RMSprop(learning_rate=learning_rate)\n",
        "#optimizer = tf.keras.optimizers.Adam(learning_rate=learning_rate)\n",
        "loss = tf.keras.losses.SparseCategoricalCrossentropy()\n",
        "#loss = tf.keras.losses.MeanSquaredError()\n",
        "model2.compile(loss=loss, optimizer=optimizer, metrics=['accuracy'])"
      ]
    },
    {
      "cell_type": "code",
      "execution_count": 42,
      "metadata": {
        "colab": {
          "base_uri": "https://localhost:8080/"
        },
        "id": "WW5LAKg9yq-H",
        "outputId": "cc586f90-f70c-4709-ebc2-a524a3c8e7e5"
      },
      "outputs": [
        {
          "output_type": "stream",
          "name": "stdout",
          "text": [
            "Model: \"sequential_6\"\n",
            "_________________________________________________________________\n",
            " Layer (type)                Output Shape              Param #   \n",
            "=================================================================\n",
            " embedding_6 (Embedding)     (None, 200, 128)          3270528   \n",
            "                                                                 \n",
            " gru (GRU)                   (None, 32)                15552     \n",
            "                                                                 \n",
            " dropout_8 (Dropout)         (None, 32)                0         \n",
            "                                                                 \n",
            " dense_10 (Dense)            (None, 3)                 99        \n",
            "                                                                 \n",
            "=================================================================\n",
            "Total params: 3,286,179\n",
            "Trainable params: 3,286,179\n",
            "Non-trainable params: 0\n",
            "_________________________________________________________________\n"
          ]
        }
      ],
      "source": [
        "model2.summary()"
      ]
    },
    {
      "cell_type": "code",
      "execution_count": 43,
      "metadata": {
        "colab": {
          "base_uri": "https://localhost:8080/"
        },
        "id": "0HG84hIgaKtb",
        "outputId": "b14e29b9-0ebe-43a7-d2a5-ec579c8c9294"
      },
      "outputs": [
        {
          "output_type": "stream",
          "name": "stdout",
          "text": [
            "Epoch 1/20\n",
            "599/599 [==============================] - 60s 92ms/step - loss: 1.9767 - accuracy: 0.4515 - val_loss: 1.1101 - val_accuracy: 0.4708\n",
            "Epoch 2/20\n",
            "599/599 [==============================] - 8s 13ms/step - loss: 1.1179 - accuracy: 0.4504 - val_loss: 1.1100 - val_accuracy: 0.4708\n",
            "Epoch 3/20\n",
            "599/599 [==============================] - 7s 11ms/step - loss: 1.1167 - accuracy: 0.4506 - val_loss: 1.1106 - val_accuracy: 0.4708\n",
            "Epoch 4/20\n",
            "599/599 [==============================] - 8s 14ms/step - loss: 1.1169 - accuracy: 0.4506 - val_loss: 1.1103 - val_accuracy: 0.4708\n",
            "Epoch 5/20\n",
            "599/599 [==============================] - 8s 13ms/step - loss: 1.1164 - accuracy: 0.4506 - val_loss: 1.1103 - val_accuracy: 0.4708\n",
            "Epoch 6/20\n",
            "599/599 [==============================] - 7s 11ms/step - loss: 1.1161 - accuracy: 0.4506 - val_loss: 1.1105 - val_accuracy: 0.4708\n",
            "Epoch 7/20\n",
            "599/599 [==============================] - 8s 13ms/step - loss: 1.1160 - accuracy: 0.4506 - val_loss: 1.1092 - val_accuracy: 0.4708\n",
            "Epoch 8/20\n",
            "599/599 [==============================] - 7s 11ms/step - loss: 1.1155 - accuracy: 0.4506 - val_loss: 1.1090 - val_accuracy: 0.4708\n",
            "Epoch 9/20\n",
            "599/599 [==============================] - 8s 14ms/step - loss: 1.1156 - accuracy: 0.4534 - val_loss: 1.1098 - val_accuracy: 0.4708\n",
            "Epoch 10/20\n",
            "599/599 [==============================] - 8s 13ms/step - loss: 1.0783 - accuracy: 0.5121 - val_loss: 0.9862 - val_accuracy: 0.5839\n",
            "Epoch 11/20\n",
            "599/599 [==============================] - 7s 12ms/step - loss: 0.9501 - accuracy: 0.6103 - val_loss: 0.9585 - val_accuracy: 0.6123\n",
            "Epoch 12/20\n",
            "599/599 [==============================] - 8s 14ms/step - loss: 0.8755 - accuracy: 0.6603 - val_loss: 0.9809 - val_accuracy: 0.6344\n",
            "Epoch 13/20\n",
            "599/599 [==============================] - 7s 11ms/step - loss: 0.8081 - accuracy: 0.7158 - val_loss: 1.0535 - val_accuracy: 0.6194\n",
            "Epoch 14/20\n",
            "599/599 [==============================] - 8s 14ms/step - loss: 0.7447 - accuracy: 0.7602 - val_loss: 1.2069 - val_accuracy: 0.6311\n",
            "Epoch 15/20\n",
            "599/599 [==============================] - 8s 13ms/step - loss: 0.6893 - accuracy: 0.7977 - val_loss: 1.2933 - val_accuracy: 0.6064\n",
            "Epoch 16/20\n",
            "599/599 [==============================] - 7s 11ms/step - loss: 0.6482 - accuracy: 0.8198 - val_loss: 1.2671 - val_accuracy: 0.6189\n"
          ]
        }
      ],
      "source": [
        "# Train the model\n",
        "history2 = model2.fit(X_train, y_train, epochs=epochs, batch_size=batch_size, validation_data=(X_val, y_val), shuffle=False, callbacks=[EarlyStopping(patience=5)])"
      ]
    },
    {
      "cell_type": "code",
      "execution_count": 44,
      "metadata": {
        "colab": {
          "base_uri": "https://localhost:8080/"
        },
        "id": "6phgH_3saMp1",
        "outputId": "37129a98-a26e-4ae8-b957-3029258621ab"
      },
      "outputs": [
        {
          "output_type": "stream",
          "name": "stdout",
          "text": [
            "38/38 [==============================] - 0s 7ms/step - loss: 1.2120 - accuracy: 0.6110\n",
            "Test Loss: 1.2119951248168945\n",
            "Test Accuracy: 0.6110183596611023\n"
          ]
        }
      ],
      "source": [
        "# Evaluate the model\n",
        "loss, accuracy = model2.evaluate(X_test, y_test)\n",
        "print(\"Test Loss:\", loss)\n",
        "print(\"Test Accuracy:\", accuracy)"
      ]
    },
    {
      "cell_type": "code",
      "execution_count": 45,
      "metadata": {
        "id": "kd9nAeIwaYuD"
      },
      "outputs": [],
      "source": [
        "# Define the model 3\n",
        "model3 = tf.keras.Sequential([\n",
        "    tf.keras.layers.Embedding(len(word_index) + 1, 128, input_length=max_len, mask_zero=True),\n",
        "    tf.keras.layers.SimpleRNN(32,kernel_regularizer=regularizers.L1L2(l1=l1, l2=l2), activation='tanh'),\n",
        "    #tf.keras.layers.Dropout(dropout_rate),\n",
        "    #tf.keras.layers.Dense(16, activation=activation),\n",
        "    tf.keras.layers.Dropout(dropout_rate),\n",
        "    tf.keras.layers.Dense(3, activation=final_activation)\n",
        "])\n",
        "\n",
        "# Compile the model\n",
        "optimizer = tf.keras.optimizers.RMSprop(learning_rate=learning_rate)\n",
        "#optimizer = tf.keras.optimizers.Adam(learning_rate=learning_rate)\n",
        "loss = tf.keras.losses.SparseCategoricalCrossentropy()\n",
        "#loss = tf.keras.losses.MeanSquaredError()\n",
        "model3.compile(loss=loss, optimizer=optimizer, metrics=['accuracy'])"
      ]
    },
    {
      "cell_type": "code",
      "execution_count": 46,
      "metadata": {
        "colab": {
          "base_uri": "https://localhost:8080/"
        },
        "id": "qHg2FtH2yuHb",
        "outputId": "43be6db7-a768-4bb1-deaa-8d3da8d1a415"
      },
      "outputs": [
        {
          "output_type": "stream",
          "name": "stdout",
          "text": [
            "Model: \"sequential_7\"\n",
            "_________________________________________________________________\n",
            " Layer (type)                Output Shape              Param #   \n",
            "=================================================================\n",
            " embedding_7 (Embedding)     (None, 200, 128)          3270528   \n",
            "                                                                 \n",
            " simple_rnn (SimpleRNN)      (None, 32)                5152      \n",
            "                                                                 \n",
            " dropout_9 (Dropout)         (None, 32)                0         \n",
            "                                                                 \n",
            " dense_11 (Dense)            (None, 3)                 99        \n",
            "                                                                 \n",
            "=================================================================\n",
            "Total params: 3,275,779\n",
            "Trainable params: 3,275,779\n",
            "Non-trainable params: 0\n",
            "_________________________________________________________________\n"
          ]
        }
      ],
      "source": [
        "model3.summary()"
      ]
    },
    {
      "cell_type": "code",
      "execution_count": 47,
      "metadata": {
        "colab": {
          "base_uri": "https://localhost:8080/"
        },
        "id": "NFV7dXklabNJ",
        "outputId": "67060178-0ca2-4610-f6f7-0643517fe700"
      },
      "outputs": [
        {
          "output_type": "stream",
          "name": "stdout",
          "text": [
            "Epoch 1/20\n",
            "599/599 [==============================] - 212s 352ms/step - loss: 1.4899 - accuracy: 0.5415 - val_loss: 0.9618 - val_accuracy: 0.5897\n",
            "Epoch 2/20\n",
            "599/599 [==============================] - 179s 299ms/step - loss: 0.9045 - accuracy: 0.6179 - val_loss: 0.9260 - val_accuracy: 0.5989\n",
            "Epoch 3/20\n",
            "599/599 [==============================] - 180s 300ms/step - loss: 0.8356 - accuracy: 0.6540 - val_loss: 0.9483 - val_accuracy: 0.5977\n",
            "Epoch 4/20\n",
            "599/599 [==============================] - 178s 296ms/step - loss: 0.7879 - accuracy: 0.6843 - val_loss: 1.0531 - val_accuracy: 0.5964\n",
            "Epoch 5/20\n",
            "599/599 [==============================] - 179s 299ms/step - loss: 0.7433 - accuracy: 0.7012 - val_loss: 1.0328 - val_accuracy: 0.5935\n",
            "Epoch 6/20\n",
            "599/599 [==============================] - 180s 301ms/step - loss: 0.7041 - accuracy: 0.7183 - val_loss: 1.1573 - val_accuracy: 0.5881\n",
            "Epoch 7/20\n",
            "599/599 [==============================] - 181s 302ms/step - loss: 0.6795 - accuracy: 0.7283 - val_loss: 1.4134 - val_accuracy: 0.5893\n"
          ]
        }
      ],
      "source": [
        "# Train the model\n",
        "history3 = model3.fit(X_train, y_train, epochs=epochs, batch_size=batch_size, validation_data=(X_val, y_val), shuffle=False, callbacks=[EarlyStopping(patience=5)])"
      ]
    },
    {
      "cell_type": "code",
      "execution_count": 48,
      "metadata": {
        "colab": {
          "base_uri": "https://localhost:8080/"
        },
        "id": "QIAAVzWoacT3",
        "outputId": "e16587ad-b2ba-4dc1-9d54-310b94c09d69"
      },
      "outputs": [
        {
          "output_type": "stream",
          "name": "stdout",
          "text": [
            "38/38 [==============================] - 1s 24ms/step - loss: 1.3933 - accuracy: 0.5927\n",
            "Test Loss: 1.3932740688323975\n",
            "Test Accuracy: 0.5926544070243835\n"
          ]
        }
      ],
      "source": [
        "# Evaluate the model\n",
        "loss, accuracy = model3.evaluate(X_test, y_test)\n",
        "print(\"Test Loss:\", loss)\n",
        "print(\"Test Accuracy:\", accuracy)"
      ]
    },
    {
      "cell_type": "code",
      "execution_count": 49,
      "metadata": {
        "id": "svbzPytWcuKE"
      },
      "outputs": [],
      "source": [
        "# Define the model 4\n",
        "model4 = tf.keras.Sequential([\n",
        "    tf.keras.layers.Embedding(len(word_index) + 1, 128, input_length=max_len),\n",
        "    tf.keras.layers.Conv1D(32, 3, activation='tanh',kernel_regularizer=regularizers.L1L2(l1=l1, l2=l2)),\n",
        "    tf.keras.layers.GlobalMaxPooling1D(),\n",
        "    #tf.keras.layers.Dropout(dropout_rate),\n",
        "    tf.keras.layers.Flatten(),\n",
        "    #tf.keras.layers.Dropout(dropout_rate),\n",
        "    #tf.keras.layers.Dense(16, activation=activation),\n",
        "    tf.keras.layers.Dropout(dropout_rate),\n",
        "    tf.keras.layers.Dense(3, activation=final_activation)\n",
        "])\n",
        "\n",
        "# Compile the model\n",
        "optimizer = tf.keras.optimizers.RMSprop(learning_rate=learning_rate)\n",
        "#optimizer = tf.keras.optimizers.Adam(learning_rate=learning_rate)\n",
        "loss = tf.keras.losses.SparseCategoricalCrossentropy()\n",
        "#loss = tf.keras.losses.MeanSquaredError()\n",
        "model4.compile(loss=loss, optimizer=optimizer, metrics=['accuracy'])"
      ]
    },
    {
      "cell_type": "code",
      "execution_count": 50,
      "metadata": {
        "colab": {
          "base_uri": "https://localhost:8080/"
        },
        "id": "5wummcoByxuH",
        "outputId": "f9cd1646-e571-415e-9c56-cf742ecd9625"
      },
      "outputs": [
        {
          "output_type": "stream",
          "name": "stdout",
          "text": [
            "Model: \"sequential_8\"\n",
            "_________________________________________________________________\n",
            " Layer (type)                Output Shape              Param #   \n",
            "=================================================================\n",
            " embedding_8 (Embedding)     (None, 200, 128)          3270528   \n",
            "                                                                 \n",
            " conv1d (Conv1D)             (None, 198, 32)           12320     \n",
            "                                                                 \n",
            " global_max_pooling1d (Globa  (None, 32)               0         \n",
            " lMaxPooling1D)                                                  \n",
            "                                                                 \n",
            " flatten (Flatten)           (None, 32)                0         \n",
            "                                                                 \n",
            " dropout_10 (Dropout)        (None, 32)                0         \n",
            "                                                                 \n",
            " dense_12 (Dense)            (None, 3)                 99        \n",
            "                                                                 \n",
            "=================================================================\n",
            "Total params: 3,282,947\n",
            "Trainable params: 3,282,947\n",
            "Non-trainable params: 0\n",
            "_________________________________________________________________\n"
          ]
        }
      ],
      "source": [
        "model4.summary()"
      ]
    },
    {
      "cell_type": "code",
      "execution_count": 51,
      "metadata": {
        "colab": {
          "base_uri": "https://localhost:8080/"
        },
        "id": "bx3sO23-dIsh",
        "outputId": "f2f60a9f-5403-415b-f8d4-12a8332f32ad"
      },
      "outputs": [
        {
          "output_type": "stream",
          "name": "stdout",
          "text": [
            "Epoch 1/20\n",
            "599/599 [==============================] - 44s 63ms/step - loss: 1.4939 - accuracy: 0.4479 - val_loss: 1.1096 - val_accuracy: 0.4708\n",
            "Epoch 2/20\n",
            "599/599 [==============================] - 3s 5ms/step - loss: 1.1175 - accuracy: 0.4506 - val_loss: 1.1102 - val_accuracy: 0.4708\n",
            "Epoch 3/20\n",
            "599/599 [==============================] - 3s 4ms/step - loss: 1.1167 - accuracy: 0.4506 - val_loss: 1.1080 - val_accuracy: 0.4708\n",
            "Epoch 4/20\n",
            "599/599 [==============================] - 3s 5ms/step - loss: 1.1163 - accuracy: 0.4506 - val_loss: 1.1091 - val_accuracy: 0.4708\n",
            "Epoch 5/20\n",
            "599/599 [==============================] - 3s 5ms/step - loss: 1.1171 - accuracy: 0.4506 - val_loss: 1.1094 - val_accuracy: 0.4708\n",
            "Epoch 6/20\n",
            "599/599 [==============================] - 3s 6ms/step - loss: 1.1167 - accuracy: 0.4506 - val_loss: 1.1099 - val_accuracy: 0.4708\n",
            "Epoch 7/20\n",
            "599/599 [==============================] - 3s 5ms/step - loss: 1.1161 - accuracy: 0.4506 - val_loss: 1.1095 - val_accuracy: 0.4708\n",
            "Epoch 8/20\n",
            "599/599 [==============================] - 3s 5ms/step - loss: 1.1170 - accuracy: 0.4506 - val_loss: 1.1097 - val_accuracy: 0.4708\n"
          ]
        }
      ],
      "source": [
        "# Train the model\n",
        "history4 = model4.fit(X_train, y_train, epochs=epochs, batch_size=batch_size, validation_data=(X_val, y_val), shuffle=False, callbacks=[EarlyStopping(patience=5)])"
      ]
    },
    {
      "cell_type": "code",
      "execution_count": 52,
      "metadata": {
        "colab": {
          "base_uri": "https://localhost:8080/"
        },
        "id": "yNCQM3mtdKt-",
        "outputId": "66d4d27f-15b9-4d66-d84a-627dd562bc26"
      },
      "outputs": [
        {
          "output_type": "stream",
          "name": "stdout",
          "text": [
            "38/38 [==============================] - 0s 4ms/step - loss: 1.1136 - accuracy: 0.4583\n",
            "Test Loss: 1.1136332750320435\n",
            "Test Accuracy: 0.4582637846469879\n"
          ]
        }
      ],
      "source": [
        "# Evaluate the model\n",
        "loss, accuracy = model4.evaluate(X_test, y_test)\n",
        "print(\"Test Loss:\", loss)\n",
        "print(\"Test Accuracy:\", accuracy)"
      ]
    },
    {
      "cell_type": "code",
      "execution_count": 53,
      "metadata": {
        "colab": {
          "base_uri": "https://localhost:8080/",
          "height": 368
        },
        "id": "4epI4ctd9Wds",
        "outputId": "10b2407d-371f-4e46-bda4-c948294aee14"
      },
      "outputs": [
        {
          "output_type": "display_data",
          "data": {
            "text/plain": [
              "<Figure size 2000x400 with 4 Axes>"
            ],
            "image/png": "[encoded data removed]"
          },
          "metadata": {}
        }
      ],
      "source": [
        "f, (ax1, ax2, ax3, ax4) = plt.subplots(1, 4, sharey=True, figsize=(20, 4))\n",
        "ax1.plot(range(len(history1.history['accuracy'])), history1.history['accuracy'], \n",
        "         label='LSTM Train Accuracy');\n",
        "ax1.plot(range(len(history1.history['val_accuracy'])), history1.history['val_accuracy'], \n",
        "         label='LSTM Val Accuracy');\n",
        "ax2.plot(range(len(history2.history['accuracy'])), history2.history['accuracy'],\n",
        "         label='GRU Train Accuracy');\n",
        "ax2.plot(range(len(history2.history['val_accuracy'])), history2.history['val_accuracy'],\n",
        "         label='GRU Val Accuracy');\n",
        "ax3.plot(range(len(history3.history['accuracy'])), history3.history['accuracy'], \n",
        "         label='SimpleRNN Train Accuracy');\n",
        "ax3.plot(range(len(history3.history['val_accuracy'])), history3.history['val_accuracy'], \n",
        "         label='SimpleRNN Val Accuracy');\n",
        "ax4.plot(range(len(history4.history['accuracy'])), history4.history['accuracy'],\n",
        "         label='CNN Train Accuracy');\n",
        "ax4.plot(range(len(history4.history['val_accuracy'])), history4.history['val_accuracy'],\n",
        "         label='CNN Val Accuracy');\n",
        "ax1.legend();\n",
        "ax2.legend();\n",
        "ax3.legend();\n",
        "ax4.legend();"
      ]
    },
    {
      "cell_type": "code",
      "execution_count": 54,
      "metadata": {
        "colab": {
          "base_uri": "https://localhost:8080/",
          "height": 368
        },
        "id": "Vt1W6Rk8nSf6",
        "outputId": "a728442b-326d-4fa1-c837-5c5de73695af"
      },
      "outputs": [
        {
          "output_type": "display_data",
          "data": {
            "text/plain": [
              "<Figure size 2000x400 with 4 Axes>"
            ],
            "image/png": "[encoded data removed]"
          },
          "metadata": {}
        }
      ],
      "source": [
        "f, (ax1, ax2, ax3, ax4) = plt.subplots(1, 4, sharey=True, figsize=(20, 4))\n",
        "ax1.plot(range(len(history1.history['loss'])), history1.history['loss'], \n",
        "         label='LSTM Train Loss');\n",
        "ax1.plot(range(len(history1.history['val_loss'])), history1.history['val_loss'], \n",
        "         label='LSTM Val Loss');\n",
        "ax2.plot(range(len(history2.history['loss'])), history2.history['loss'],\n",
        "         label='GRU Train Loss');\n",
        "ax2.plot(range(len(history2.history['val_loss'])), history2.history['val_loss'],\n",
        "         label='GRU Val Loss');\n",
        "ax3.plot(range(len(history3.history['loss'])), history3.history['loss'], \n",
        "         label='SimpleRNN Train Loss');\n",
        "ax3.plot(range(len(history3.history['val_loss'])), history3.history['val_loss'], \n",
        "         label='SimpleRNN Val Loss');\n",
        "ax4.plot(range(len(history4.history['loss'])), history4.history['loss'],\n",
        "         label='CNN Train Loss');\n",
        "ax4.plot(range(len(history4.history['val_loss'])), history4.history['val_loss'],\n",
        "         label='CNN Val Loss');\n",
        "ax1.legend();\n",
        "ax2.legend();\n",
        "ax3.legend();\n",
        "ax4.legend();"
      ]
    },
    {
      "cell_type": "code",
      "source": [
        "#Predict\n",
        "y_prediction = np.argmax(model0.predict(X_test),axis=1)\n",
        "\n",
        "#Create confusion matrix and normalizes it over predicted (columns)\n",
        "result = confusion_matrix(y_test, y_prediction , normalize='pred')\n",
        "\n",
        "fig = plt.figure()\n",
        "sns.heatmap(result,square=True)\n",
        "plt.xlabel(\"Baseline\")"
      ],
      "metadata": {
        "id": "7oJibfoWavjl",
        "colab": {
          "base_uri": "https://localhost:8080/",
          "height": 484
        },
        "outputId": "1b653f82-afc6-44d1-d6db-834c469698d5"
      },
      "execution_count": 55,
      "outputs": [
        {
          "output_type": "stream",
          "name": "stdout",
          "text": [
            "38/38 [==============================] - 1s 5ms/step\n"
          ]
        },
        {
          "output_type": "execute_result",
          "data": {
            "text/plain": [
              "Text(0.5, 23.52222222222222, 'Baseline')"
            ]
          },
          "metadata": {},
          "execution_count": 55
        },
        {
          "output_type": "display_data",
          "data": {
            "text/plain": [
              "<Figure size 640x480 with 2 Axes>"
            ],
            "image/png": "[encoded data removed]"
          },
          "metadata": {}
        }
      ]
    },
    {
      "cell_type": "code",
      "source": [
        "print('f1: ', f1_score(y_test, y_prediction, average='micro'))"
      ],
      "metadata": {
        "colab": {
          "base_uri": "https://localhost:8080/"
        },
        "id": "KO5kq3GZix24",
        "outputId": "de2e4bcb-e413-4ea5-ee4c-a01c443d6446"
      },
      "execution_count": 56,
      "outputs": [
        {
          "output_type": "stream",
          "name": "stdout",
          "text": [
            "f1:  0.48163606010016696\n"
          ]
        }
      ]
    },
    {
      "cell_type": "code",
      "execution_count": 57,
      "metadata": {
        "colab": {
          "base_uri": "https://localhost:8080/",
          "height": 484
        },
        "id": "V9MESXhuDHrK",
        "outputId": "1c3502a7-c4b7-4a59-8ecf-b49532fde49f"
      },
      "outputs": [
        {
          "output_type": "stream",
          "name": "stdout",
          "text": [
            "38/38 [==============================] - 2s 7ms/step\n"
          ]
        },
        {
          "output_type": "execute_result",
          "data": {
            "text/plain": [
              "Text(0.5, 23.52222222222222, 'LSTM')"
            ]
          },
          "metadata": {},
          "execution_count": 57
        },
        {
          "output_type": "display_data",
          "data": {
            "text/plain": [
              "<Figure size 640x480 with 2 Axes>"
            ],
            "image/png": "[encoded data removed]"
          },
          "metadata": {}
        }
      ],
      "source": [
        "#Predict\n",
        "y_prediction = np.argmax(model1.predict(X_test),axis=1)\n",
        "\n",
        "#Create confusion matrix and normalizes it over predicted (columns)\n",
        "result = confusion_matrix(y_test, y_prediction , normalize='pred')\n",
        "\n",
        "fig = plt.figure()\n",
        "sns.heatmap(result,square=True)\n",
        "plt.xlabel(\"LSTM\")"
      ]
    },
    {
      "cell_type": "code",
      "execution_count": 65,
      "metadata": {
        "id": "2iaSzpWDEWxS",
        "colab": {
          "base_uri": "https://localhost:8080/"
        },
        "outputId": "bfb06c22-e61b-4c58-b9e2-9e3ebf5ce357"
      },
      "outputs": [
        {
          "output_type": "stream",
          "name": "stdout",
          "text": [
            "f1:  0.4582637729549249\n"
          ]
        }
      ],
      "source": [
        "print('f1: ', f1_score(y_test, y_prediction, average='micro'))"
      ]
    },
    {
      "cell_type": "code",
      "execution_count": 59,
      "metadata": {
        "id": "puybERG-Ee1w",
        "colab": {
          "base_uri": "https://localhost:8080/",
          "height": 484
        },
        "outputId": "c5b98938-eee2-4fed-9e1b-88690ec907b3"
      },
      "outputs": [
        {
          "output_type": "stream",
          "name": "stdout",
          "text": [
            "38/38 [==============================] - 1s 5ms/step\n"
          ]
        },
        {
          "output_type": "execute_result",
          "data": {
            "text/plain": [
              "Text(0.5, 23.52222222222222, 'GRU')"
            ]
          },
          "metadata": {},
          "execution_count": 59
        },
        {
          "output_type": "display_data",
          "data": {
            "text/plain": [
              "<Figure size 640x480 with 2 Axes>"
            ],
            "image/png": "[encoded data removed]"
          },
          "metadata": {}
        }
      ],
      "source": [
        "#Predict\n",
        "y_prediction = np.argmax(model2.predict(X_test),axis=1)\n",
        "\n",
        "#Create confusion matrix and normalizes it over predicted (columns)\n",
        "result = confusion_matrix(y_test, y_prediction , normalize='pred')\n",
        "\n",
        "fig = plt.figure()\n",
        "sns.heatmap(result,square=True)\n",
        "plt.xlabel(\"GRU\")\n"
      ]
    },
    {
      "cell_type": "code",
      "execution_count": 66,
      "metadata": {
        "id": "FBTVivWsGz1u",
        "colab": {
          "base_uri": "https://localhost:8080/"
        },
        "outputId": "bb475000-dfd1-4ce6-b70f-0fee6c0a7eac"
      },
      "outputs": [
        {
          "output_type": "stream",
          "name": "stdout",
          "text": [
            "f1:  0.4582637729549249\n"
          ]
        }
      ],
      "source": [
        "print('f1: ', f1_score(y_test, y_prediction, average='micro'))"
      ]
    },
    {
      "cell_type": "code",
      "execution_count": 61,
      "metadata": {
        "id": "2wjYgDJ8EfFR",
        "colab": {
          "base_uri": "https://localhost:8080/",
          "height": 484
        },
        "outputId": "10590a9d-9e9d-4723-80d6-753841b33c03"
      },
      "outputs": [
        {
          "output_type": "stream",
          "name": "stdout",
          "text": [
            "38/38 [==============================] - 1s 23ms/step\n"
          ]
        },
        {
          "output_type": "execute_result",
          "data": {
            "text/plain": [
              "Text(0.5, 23.52222222222222, 'SimpleRNN')"
            ]
          },
          "metadata": {},
          "execution_count": 61
        },
        {
          "output_type": "display_data",
          "data": {
            "text/plain": [
              "<Figure size 640x480 with 2 Axes>"
            ],
            "image/png": "[encoded data removed]"
          },
          "metadata": {}
        }
      ],
      "source": [
        "#Predict\n",
        "y_prediction = np.argmax(model3.predict(X_test),axis=1)\n",
        "\n",
        "#Create confusion matrix and normalizes it over predicted (columns)\n",
        "result = confusion_matrix(y_test, y_prediction , normalize='pred')\n",
        "\n",
        "fig = plt.figure()\n",
        "sns.heatmap(result,square=True)\n",
        "plt.xlabel(\"SimpleRNN\")"
      ]
    },
    {
      "cell_type": "code",
      "execution_count": 67,
      "metadata": {
        "id": "YXaHxawhG1zS",
        "colab": {
          "base_uri": "https://localhost:8080/"
        },
        "outputId": "67aec5f2-abe2-474d-f405-2d9c5609734a"
      },
      "outputs": [
        {
          "output_type": "stream",
          "name": "stdout",
          "text": [
            "f1:  0.4582637729549249\n"
          ]
        }
      ],
      "source": [
        "print('f1: ', f1_score(y_test, y_prediction, average='micro'))"
      ]
    },
    {
      "cell_type": "code",
      "execution_count": 63,
      "metadata": {
        "id": "PCdkQzeaEfVJ",
        "colab": {
          "base_uri": "https://localhost:8080/",
          "height": 484
        },
        "outputId": "ae2e7896-460d-45f6-bc0a-98c6a442f3e1"
      },
      "outputs": [
        {
          "output_type": "stream",
          "name": "stdout",
          "text": [
            "38/38 [==============================] - 0s 2ms/step\n"
          ]
        },
        {
          "output_type": "execute_result",
          "data": {
            "text/plain": [
              "Text(0.5, 23.52222222222222, 'CNN')"
            ]
          },
          "metadata": {},
          "execution_count": 63
        },
        {
          "output_type": "display_data",
          "data": {
            "text/plain": [
              "<Figure size 640x480 with 2 Axes>"
            ],
            "image/png": "[encoded data removed]"
          },
          "metadata": {}
        }
      ],
      "source": [
        "#Predict\n",
        "y_prediction = np.argmax(model4.predict(X_test),axis=1)\n",
        "\n",
        "#Create confusion matrix and normalizes it over predicted (columns)\n",
        "result = confusion_matrix(y_test, y_prediction , normalize='pred')\n",
        "\n",
        "fig = plt.figure()\n",
        "sns.heatmap(result,square=True)\n",
        "plt.xlabel(\"CNN\")"
      ]
    },
    {
      "cell_type": "code",
      "execution_count": 68,
      "metadata": {
        "id": "3bGqmMxrG29W",
        "colab": {
          "base_uri": "https://localhost:8080/"
        },
        "outputId": "8572f61c-96a9-4f33-a18a-c065baee87f2"
      },
      "outputs": [
        {
          "output_type": "stream",
          "name": "stdout",
          "text": [
            "f1:  0.4582637729549249\n"
          ]
        }
      ],
      "source": [
        "print('f1: ', f1_score(y_test, y_prediction, average='micro'))"
      ]
    }
  ],
  "metadata": {
    "accelerator": "GPU",
    "colab": {
      "machine_shape": "hm",
      "provenance": []
    },
    "gpuClass": "standard",
    "kernelspec": {
      "display_name": "Python 3",
      "language": "python",
      "name": "python3"
    },
    "language_info": {
      "codemirror_mode": {
        "name": "ipython",
        "version": 3
      },
      "file_extension": ".py",
      "mimetype": "text/x-python",
      "name": "python",
      "nbconvert_exporter": "python",
      "pygments_lexer": "ipython3",
      "version": "3.6.4"
    }
  },
  "nbformat": 4,
  "nbformat_minor": 0
}